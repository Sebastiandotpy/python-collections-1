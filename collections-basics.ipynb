{
 "cells": [
  {
   "cell_type": "code",
   "execution_count": 3,
   "metadata": {},
   "outputs": [
    {
     "name": "stdout",
     "output_type": "stream",
     "text": [
      "Apples\n",
      "Cherries\n",
      "Strawberries\n"
     ]
    }
   ],
   "source": [
    "# Task 1\n",
    "# Create a list called fruits and add the elements, Apples, CHerries, and Strawberrys one by one\n",
    "fruits = []\n",
    "fruits.append(\"Apples\")\n",
    "fruits.append(\"Cherries\")\n",
    "fruits.append(\"Strawberries\")\n",
    "\n",
    "\n",
    "# Loop Through the fruis list and print each element to the screen\n",
    "for fruit in fruits:\n",
    "    print(fruit)\n",
    "    "
   ]
  },
  {
   "cell_type": "code",
   "execution_count": 7,
   "metadata": {},
   "outputs": [
    {
     "name": "stdout",
     "output_type": "stream",
     "text": [
      "The capital city of Germany is: Berlin\n"
     ]
    }
   ],
   "source": [
    "# Task 2\n",
    "# Create a list called cities with the cities Londo, Paris, Berlin, and Amsterdam\n",
    "cities = [\"London\", \"Paris\", \"Berlin\", \"Amsterdam\"]\n",
    "\n",
    "# Use the index of \"Berlin\" in the cities list to print the sentence \"The capital city of Germnany is: Berlin\" to the screen\n",
    "print(\"The capital city of Germany is: \" + cities[2])"
   ]
  },
  {
   "cell_type": "code",
   "execution_count": 3,
   "metadata": {},
   "outputs": [
    {
     "name": "stdout",
     "output_type": "stream",
     "text": [
      "cyan\n",
      "magenta\n",
      "yellow\n",
      "black\n"
     ]
    }
   ],
   "source": [
    "# Task 3\n",
    "# Create a list called colors with the colors cyan, magenta, green, yellow, black, and white\n",
    "colors = [\"cyan\", \"magenta\", \"green\", \"yellow\", \"black\", \"white\"]\n",
    "\n",
    "# Remove the elements \"green\" and \"white\" from the colors list\n",
    "colors.remove(\"green\")\n",
    "colors.remove(\"white\")\n",
    "\n",
    "# Loop through the colors list and print each remaining color to the screen\n",
    "for color in colors:\n",
    "    print(color)"
   ]
  },
  {
   "cell_type": "code",
   "execution_count": 10,
   "metadata": {},
   "outputs": [
    {
     "name": "stdout",
     "output_type": "stream",
     "text": [
      "Penguin\n"
     ]
    }
   ],
   "source": [
    "# Task 4\n",
    "# Create a list called letters with the letters p, e, n, g, u, i, and n\n",
    "letters = [\"p\", \"e\", \"n\", \"g\", \"u\", \"i\", \"n\"]\n",
    "\n",
    "# Use the join() method to combine the letters in the letter list into a single string called \"Penguin\"\n",
    "penguin = \"\".join(letters)\n",
    "\n",
    "# Use the capitalize() method to capitalize the penguin st ring and print it\n",
    "print(penguin.capitalize())"
   ]
  }
 ],
 "metadata": {
  "kernelspec": {
   "display_name": "Python 3",
   "language": "python",
   "name": "python3"
  },
  "language_info": {
   "codemirror_mode": {
    "name": "ipython",
    "version": 3
   },
   "file_extension": ".py",
   "mimetype": "text/x-python",
   "name": "python",
   "nbconvert_exporter": "python",
   "pygments_lexer": "ipython3",
   "version": "3.11.3"
  },
  "orig_nbformat": 4
 },
 "nbformat": 4,
 "nbformat_minor": 2
}
